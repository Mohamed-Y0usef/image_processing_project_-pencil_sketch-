{
 "cells": [
  {
   "cell_type": "code",
   "execution_count": null,
   "id": "856eafa4",
   "metadata": {},
   "outputs": [],
   "source": [
    "# importing the libraries needed\n",
    "import cv2\n",
    "import matplotlib.pyplot as plt\n",
    "plt.style.use('seaborn')"
   ]
  },
  {
   "cell_type": "code",
   "execution_count": null,
   "id": "f9e1744c",
   "metadata": {},
   "outputs": [],
   "source": [
    "# original image\n",
    "img = cv2.imread(\"/content/1.PNG\")\n",
    "img = cv2.cvtColor(img,cv2.COLOR_BGR2RGB)\n",
    "plt.figure(figsize=(8,8))\n",
    "plt.imshow(img)\n",
    "plt.axis(\"off\")\n",
    "plt.title(\"Original Image\")\n",
    "plt.show()"
   ]
  },
  {
   "cell_type": "code",
   "execution_count": null,
   "id": "d4022f47",
   "metadata": {},
   "outputs": [],
   "source": [
    "# gray image\n",
    "img_gray = cv2.cvtColor(img, cv2.COLOR_BGR2GRAY)\n",
    "plt.figure(figsize=(8,8))\n",
    "plt.imshow(img_gray,cmap=\"gray\")\n",
    "plt.axis(\"off\")\n",
    "plt.title(\"GrayScale Image\")\n",
    "plt.show()"
   ]
  },
  {
   "cell_type": "code",
   "execution_count": null,
   "id": "9950f019",
   "metadata": {},
   "outputs": [],
   "source": [
    "# inverted image\n",
    "img_invert = cv2.bitwise_not(img_gray)\n",
    "plt.figure(figsize=(8,8))\n",
    "plt.imshow(img_invert,cmap=\"gray\")\n",
    "plt.axis(\"off\")\n",
    "plt.title(\"Inverted Image\")\n",
    "plt.show()"
   ]
  },
  {
   "cell_type": "code",
   "execution_count": null,
   "id": "1ba70240",
   "metadata": {},
   "outputs": [],
   "source": [
    "# smoothing image\n",
    "img_smoothing = cv2.GaussianBlur(img_invert, (21, 21),sigmaX=0, sigmaY=0)\n",
    "plt.figure(figsize=(8,8))\n",
    "plt.imshow(img_smoothing,cmap=\"gray\")\n",
    "plt.axis(\"off\")\n",
    "plt.title(\"Smoothen Image\")\n",
    "plt.show()"
   ]
  },
  {
   "cell_type": "code",
   "execution_count": null,
   "id": "49b2e550",
   "metadata": {},
   "outputs": [],
   "source": [
    "# pencil image\n",
    "final = cv2.divide(img_gray, 255 - img_smoothing, scale=255)\n",
    "plt.figure(figsize=(8,8))\n",
    "plt.imshow(final,cmap=\"gray\")\n",
    "plt.axis(\"off\")\n",
    "plt.title(\"Final Sketch Image\")\n",
    "plt.show()"
   ]
  },
  {
   "cell_type": "code",
   "execution_count": null,
   "id": "3ed05be8",
   "metadata": {},
   "outputs": [],
   "source": [
    "# dispaly all images in one figure\n",
    "plt.figure(figsize=(20,20))\n",
    "\n",
    "plt.subplot(1,5,1)\n",
    "plt.imshow(img)\n",
    "plt.axis(\"off\")\n",
    "plt.title(\"Original Image\")\n",
    "\n",
    "plt.subplot(1,5,2)\n",
    "plt.imshow(img_gray,cmap=\"gray\")\n",
    "plt.axis(\"off\")\n",
    "plt.title(\"GrayScale Image\")\n",
    "\n",
    "plt.subplot(1,5,3)\n",
    "plt.imshow(img_invert,cmap=\"gray\")\n",
    "plt.axis(\"off\")\n",
    "plt.title(\"Inverted Image\")\n",
    "\n",
    "plt.subplot(1,5,4)\n",
    "plt.imshow(img_smoothing,cmap=\"gray\")\n",
    "plt.axis(\"off\")\n",
    "plt.title(\"Smoothen Image\")\n",
    "\n",
    "plt.subplot(1,5,5)\n",
    "plt.imshow(final,cmap=\"gray\")\n",
    "plt.axis(\"off\")\n",
    "plt.title(\"Final Sketch Image\")\n",
    "\n",
    "plt.show()"
   ]
  }
 ],
 "metadata": {
  "kernelspec": {
   "display_name": "Python 3 (ipykernel)",
   "language": "python",
   "name": "python3"
  },
  "language_info": {
   "codemirror_mode": {
    "name": "ipython",
    "version": 3
   },
   "file_extension": ".py",
   "mimetype": "text/x-python",
   "name": "python",
   "nbconvert_exporter": "python",
   "pygments_lexer": "ipython3",
   "version": "3.9.7"
  }
 },
 "nbformat": 4,
 "nbformat_minor": 5
}
